{
 "cells": [
  {
   "cell_type": "code",
   "execution_count": 1,
   "metadata": {},
   "outputs": [
    {
     "name": "stderr",
     "output_type": "stream",
     "text": [
      "c:\\users\\shenchao\\appdata\\local\\programs\\python\\python36\\lib\\site-packages\\sklearn\\cross_validation.py:41: DeprecationWarning: This module was deprecated in version 0.18 in favor of the model_selection module into which all the refactored classes and functions are moved. Also note that the interface of the new CV iterators are different from that of this module. This module will be removed in 0.20.\n",
      "  \"This module will be removed in 0.20.\", DeprecationWarning)\n"
     ]
    }
   ],
   "source": [
    "import pandas as pd\n",
    "import  tca_cx as tca\n",
    "from sklearn.cross_validation import train_test_split\n",
    "import numpy as np\n",
    "from sklearn.preprocessing import *\n",
    "import numpy\n",
    "from kcca import *\n",
    "from numpy import dot, eye, ones, zeros\n",
    "import scipy.linalg\n",
    "from kernel_icd import kernel_icd\n",
    "from kernels import *\n",
    "import pandas as pd\n",
    "from sklearn.cluster import SpectralClustering as SC"
   ]
  },
  {
   "cell_type": "code",
   "execution_count": 2,
   "metadata": {},
   "outputs": [],
   "source": [
    "train_sample=pd.read_csv('pre_standard.csv').sample(frac=0.01,replace=True, random_state=9, axis=0)"
   ]
  },
  {
   "cell_type": "code",
   "execution_count": 3,
   "metadata": {
    "scrolled": true
   },
   "outputs": [],
   "source": [
    "# train_sample['T_Y'][train_sample.T_Y == 51]=3\n",
    "# train_sample['S_Y'][train_sample.S_Y == 51]=3\n",
    "# train_sample['T_Y'][train_sample.T_Y == 113]=4\n",
    "# train_sample['S_Y'][train_sample.S_Y == 113]=4\n",
    "# train_sample['T_Y'][train_sample.T_Y == 123]=5\n",
    "# train_sample['S_Y'][train_sample.S_Y == 123]=5\n",
    "# train_sample['T_Y'][train_sample.T_Y == 41]=2\n",
    "# train_sample['S_Y'][train_sample.S_Y == 41]=2\n",
    "# train_sample['T_Y'][train_sample.T_Y == 43]=2\n",
    "# train_sample['S_Y'][train_sample.S_Y == 43]=2\n",
    "# train_sample['T_Y'][train_sample.T_Y == 52]=3\n",
    "# train_sample['S_Y'][train_sample.S_Y == 52]=3\n",
    "# train_sample['T_Y'][train_sample.T_Y == 122]=5\n",
    "# train_sample['S_Y'][train_sample.S_Y == 122]=5\n",
    "# train_sample['T_Y'][train_sample.T_Y == 21]=1\n",
    "# train_sample['S_Y'][train_sample.S_Y == 21]=1\n",
    "# train_sample['T_Y'][train_sample.T_Y == 22]=1\n",
    "# train_sample['S_Y'][train_sample.S_Y == 22]=1\n",
    "# train_sample['T_Y'][train_sample.T_Y == 23]=1\n",
    "# train_sample['S_Y'][train_sample.S_Y == 23]=1           把地类号改变"
   ]
  },
  {
   "cell_type": "code",
   "execution_count": 4,
   "metadata": {},
   "outputs": [],
   "source": [
    "#train_sample['CM']"
   ]
  },
  {
   "cell_type": "code",
   "execution_count": 5,
   "metadata": {
    "scrolled": true
   },
   "outputs": [],
   "source": [
    "#填充\n",
    "train_sample_type_=train_sample.loc[train_sample[\"S_Y\"]==1]\n",
    "train_sample=train_sample.fillna(method='bfill')\n",
    "train_sample=train_sample.fillna(method='ffill')\n",
    "train_sample=train_sample.drop(['CM'],axis=1)\n",
    "train_sample.to_csv('sample_processed.csv',index=False,header=True)"
   ]
  },
  {
   "cell_type": "code",
   "execution_count": 6,
   "metadata": {},
   "outputs": [],
   "source": [
    "S=train_sample.loc[:,'S1':'S_S7']\n",
    "S_Y=train_sample.loc[:,'S_Y']\n",
    "T=train_sample.loc[:,'T1':'T_S7']\n",
    "T_Y=train_sample.loc[:,'T_Y']"
   ]
  },
  {
   "cell_type": "code",
   "execution_count": 7,
   "metadata": {},
   "outputs": [
    {
     "name": "stderr",
     "output_type": "stream",
     "text": [
      "c:\\users\\shenchao\\appdata\\local\\programs\\python\\python36\\lib\\site-packages\\ipykernel_launcher.py:2: DeprecationWarning: \n",
      ".ix is deprecated. Please use\n",
      ".loc for label based indexing or\n",
      ".iloc for positional indexing\n",
      "\n",
      "See the documentation here:\n",
      "http://pandas.pydata.org/pandas-docs/stable/indexing.html#ix-indexer-is-deprecated\n",
      "  \n"
     ]
    }
   ],
   "source": [
    "true_change=pd.DataFrame({\"changed\":S_Y-T_Y})\n",
    "true_change.ix[true_change.changed!=0,\"changed\"]=1"
   ]
  },
  {
   "cell_type": "code",
   "execution_count": 8,
   "metadata": {},
   "outputs": [],
   "source": [
    "kernel =GaussianKernel()\n",
    "cca = KCCA(kernel, kernel,\n",
    "                regularization=1e-5,\n",
    "                decomp='full',\n",
    "                method='kettering_method',\n",
    "                scaler1=None,\n",
    "                scaler2=None).fit(T,S)    \n",
    "orig_y1 = cca.y1_\n",
    "orig_y2 = cca.y2_  \n",
    "X1, X2 = cca.transform(S, T)\n",
    "dX=X1-X2 #kcca 的MAD变量"
   ]
  },
  {
   "cell_type": "code",
   "execution_count": 9,
   "metadata": {},
   "outputs": [],
   "source": [
    "sc=SC(n_clusters=2)#无监督二分类 得出0或1是否改变\n",
    "pre=sc.fit_predict(X=dX)\n",
    "pre=pd.DataFrame({\"changed\":pre})\n",
    "train_sample=train_sample.reset_index().drop(['index'],axis=1)\n",
    "tag_train_sample=pd.concat([train_sample,pre], axis=1,ignore_index=True)"
   ]
  },
  {
   "cell_type": "code",
   "execution_count": 10,
   "metadata": {},
   "outputs": [],
   "source": [
    "tag0_train_sample=tag_train_sample[tag_train_sample[74] == 0]\n",
    "tag1_train_sample=tag_train_sample[tag_train_sample[74] == 1]\n",
    "Xs = tag_train_sample.iloc[:,:36]\n",
    "Xs = Xs.values\n",
    "Ys = tag_train_sample.iloc[:,36:37]\n",
    "Ys = Ys.values\n",
    "Xt = tag_train_sample.iloc[:,37:73]\n",
    "Xt = Xt.values\n",
    "Yt = tag_train_sample.iloc[:,73:74]\n",
    "Yt = Yt.values"
   ]
  },
  {
   "cell_type": "code",
   "execution_count": 11,
   "metadata": {},
   "outputs": [],
   "source": [
    "X = np.hstack((Xs,Xt))\n",
    "Y = np.hstack((Ys,Yt))\n",
    "x_train_st, x_test_st, y_train_st, y_test_st = train_test_split(\n",
    "    X,\n",
    "    Y,\n",
    "    test_size=0.2, \n",
    "    random_state=9)"
   ]
  },
  {
   "cell_type": "code",
   "execution_count": null,
   "metadata": {},
   "outputs": [],
   "source": [
    "x_train_s=x_train_st[0:36]"
   ]
  },
  {
   "cell_type": "code",
   "execution_count": 14,
   "metadata": {},
   "outputs": [
    {
     "data": {
      "text/plain": [
       "(424, 72)"
      ]
     },
     "execution_count": 14,
     "metadata": {},
     "output_type": "execute_result"
    }
   ],
   "source": [
    "x_train_st.shape"
   ]
  },
  {
   "cell_type": "code",
   "execution_count": 12,
   "metadata": {},
   "outputs": [
    {
     "ename": "NameError",
     "evalue": "name 'x_src' is not defined",
     "output_type": "error",
     "traceback": [
      "\u001b[1;31m---------------------------------------------------------------------------\u001b[0m",
      "\u001b[1;31mNameError\u001b[0m                                 Traceback (most recent call last)",
      "\u001b[1;32m<ipython-input-12-af29e7629022>\u001b[0m in \u001b[0;36m<module>\u001b[1;34m()\u001b[0m\n\u001b[0;32m      1\u001b[0m \u001b[0mmy_tca\u001b[0m \u001b[1;33m=\u001b[0m \u001b[0mtca\u001b[0m\u001b[1;33m.\u001b[0m\u001b[0mTCA\u001b[0m\u001b[1;33m(\u001b[0m\u001b[0mdim\u001b[0m\u001b[1;33m=\u001b[0m\u001b[1;36m36\u001b[0m\u001b[1;33m)\u001b[0m\u001b[1;33m\u001b[0m\u001b[0m\n\u001b[1;32m----> 2\u001b[1;33m \u001b[0mV\u001b[0m\u001b[1;33m,\u001b[0m\u001b[0mx_src_tca\u001b[0m\u001b[1;33m,\u001b[0m \u001b[0mx_tar_tca\u001b[0m\u001b[1;33m,\u001b[0m \u001b[0mx_tar_o_tca\u001b[0m \u001b[1;33m=\u001b[0m \u001b[0mmy_tca\u001b[0m\u001b[1;33m.\u001b[0m\u001b[0mfit_transform\u001b[0m\u001b[1;33m(\u001b[0m\u001b[0mx_src\u001b[0m\u001b[1;33m,\u001b[0m \u001b[0mx_tar\u001b[0m\u001b[1;33m,\u001b[0m\u001b[0mx_tar_o\u001b[0m\u001b[1;33m,\u001b[0m\u001b[0md\u001b[0m\u001b[1;33m=\u001b[0m\u001b[1;36m0\u001b[0m\u001b[1;33m)\u001b[0m\u001b[1;33m\u001b[0m\u001b[0m\n\u001b[0m\u001b[0;32m      3\u001b[0m \u001b[0macc_tar_o\u001b[0m\u001b[1;33m,\u001b[0m\u001b[0my_tar_o_pre\u001b[0m\u001b[1;33m,\u001b[0m\u001b[0mkappa_tar\u001b[0m \u001b[1;33m=\u001b[0m \u001b[0mmy_tca\u001b[0m\u001b[1;33m.\u001b[0m\u001b[0mclassify_svm\u001b[0m\u001b[1;33m(\u001b[0m\u001b[0mx_src_tca\u001b[0m\u001b[1;33m,\u001b[0m \u001b[0my_src\u001b[0m\u001b[1;33m,\u001b[0m \u001b[0mx_tar_o_tca\u001b[0m\u001b[1;33m,\u001b[0m \u001b[0my_tar_o\u001b[0m\u001b[1;33m)\u001b[0m\u001b[1;33m\u001b[0m\u001b[0m\n\u001b[0;32m      4\u001b[0m \u001b[0mprint\u001b[0m\u001b[1;33m(\u001b[0m\u001b[1;34m'SVM'\u001b[0m\u001b[1;33m,\u001b[0m\u001b[0macc_tar_o\u001b[0m\u001b[1;33m,\u001b[0m\u001b[0mkappa_tar\u001b[0m\u001b[1;33m)\u001b[0m\u001b[1;33m\u001b[0m\u001b[0m\n\u001b[0;32m      5\u001b[0m \u001b[0msvm\u001b[0m\u001b[1;33m=\u001b[0m\u001b[0mmy_tca\u001b[0m\u001b[1;33m.\u001b[0m\u001b[0mclassify_svm\u001b[0m\u001b[1;33m\u001b[0m\u001b[0m\n",
      "\u001b[1;31mNameError\u001b[0m: name 'x_src' is not defined"
     ]
    }
   ],
   "source": [
    "my_tca = tca.TCA(dim=36)\n",
    "V,x_src_tca, x_tar_tca, x_tar_o_tca = my_tca.fit_transform(x_src, x_tar,x_tar_o,d=0) \n",
    "acc_tar_o,y_tar_o_pre,kappa_tar = my_tca.classify_svm(x_src_tca, y_src, x_tar_o_tca, y_tar_o)\n",
    "print('SVM',acc_tar_o,kappa_tar)\n",
    "svm=my_tca.classify_svm\n",
    "#train_sample_for_learning\n",
    "dr = tree.DecisionTreeClassifier()\n",
    "dr = dr.fit(x_src_tca, y_src)\n",
    "print('决策树',metrics.accuracy_score(y_tar_o, dr.predict(x_tar_o)),\n",
    "        metrics.cohen_kappa_score(y_tar_o,dr.predict(x_tar_o)))\n",
    "from sklearn.neural_network import MLPClassifier\n",
    "nn = MLPClassifier(solver='lbfgs', alpha=1e-5,hidden_layer_sizes=(6, 6), random_state=1)\n",
    "nn = nn.fit(x_src_tca, y_src)\n",
    "print('NN',metrics.accuracy_score(y_tar_o, nn.predict(x_tar_o_tca)),\n",
    "    metrics.cohen_kappa_score(y_tar_o, nn.predict(x_tar_o_tca)))\n"
   ]
  },
  {
   "cell_type": "code",
   "execution_count": null,
   "metadata": {},
   "outputs": [],
   "source": []
  },
  {
   "cell_type": "code",
   "execution_count": null,
   "metadata": {},
   "outputs": [],
   "source": []
  },
  {
   "cell_type": "code",
   "execution_count": null,
   "metadata": {},
   "outputs": [],
   "source": [
    "true_change=true_change.reset_index().drop(['index'],axis=1)\n",
    "correct_Y=true_change-pre\n",
    "correct_Y.ix[correct_Y.changed!=0,\"changed\"]=1\n",
    "anti_pre=pre-1\n",
    "if_change=S_Y-T_Y#(标签相减等于0的是没有改变的）\n",
    "#if_change*pre\n",
    "#if_change*anti_pre"
   ]
  }
 ],
 "metadata": {
  "kernelspec": {
   "display_name": "Python 3",
   "language": "python",
   "name": "python3"
  },
  "language_info": {
   "codemirror_mode": {
    "name": "ipython",
    "version": 3
   },
   "file_extension": ".py",
   "mimetype": "text/x-python",
   "name": "python",
   "nbconvert_exporter": "python",
   "pygments_lexer": "ipython3",
   "version": "3.6.5"
  }
 },
 "nbformat": 4,
 "nbformat_minor": 2
}
