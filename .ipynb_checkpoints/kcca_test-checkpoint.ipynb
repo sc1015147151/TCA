{
 "cells": [
  {
   "cell_type": "code",
   "execution_count": 1,
   "metadata": {},
   "outputs": [],
   "source": [
    "import numpy\n",
    "from cca import Cca\n",
    "from sklearn.cluster import SpectralClustering as SC\n",
    "from kcca import *\n",
    "from numpy import dot, eye, ones, zeros\n",
    "import scipy.linalg\n",
    "from kernel_icd import kernel_icd\n",
    "from kernels import *\n",
    "import pandas as pd"
   ]
  },
  {
   "cell_type": "code",
   "execution_count": 2,
   "metadata": {},
   "outputs": [],
   "source": [
    "file_path1='1116feature.csv'\n",
    "train_sample=pd.read_csv(file_path1).sample(frac=0.02,replace=True, random_state=9, axis=0)\n",
    "x2=train_sample.iloc[:,4:8].values\n",
    "x1=train_sample.iloc[:,0:4].values\n"
   ]
  },
  {
   "cell_type": "code",
   "execution_count": 3,
   "metadata": {},
   "outputs": [],
   "source": [
    "(x1cca,x2cca)=Cca(H1=x1,H2=x2)#cca变换"
   ]
  },
  {
   "cell_type": "code",
   "execution_count": 9,
   "metadata": {},
   "outputs": [
    {
     "name": "stdout",
     "output_type": "stream",
     "text": [
      "Done  0.9999950000249991\n",
      "Trying to test\n"
     ]
    }
   ],
   "source": [
    "\n",
    "kernel =GaussianKernel()\n",
    "cca = KCCA(kernel, kernel,\n",
    "                regularization=1e-5,\n",
    "                decomp='full',\n",
    "                method='kettering_method',\n",
    "                scaler1=None,\n",
    "                scaler2=None).fit(x1,x2) \n",
    "print (\"Done \",  cca.beta_)\n",
    "orig_y1 = cca.y1_\n",
    "orig_y2 = cca.y2_  \n",
    "print (\"Trying to test\")\n",
    "x1kcca, x2kcca= cca.transform(x1, x2)#kcca变换\n"
   ]
  }
 ],
 "metadata": {
  "kernelspec": {
   "display_name": "Python 3",
   "language": "python",
   "name": "python3"
  },
  "language_info": {
   "codemirror_mode": {
    "name": "ipython",
    "version": 3
   },
   "file_extension": ".py",
   "mimetype": "text/x-python",
   "name": "python",
   "nbconvert_exporter": "python",
   "pygments_lexer": "ipython3",
   "version": "3.6.6"
  }
 },
 "nbformat": 4,
 "nbformat_minor": 2
}
