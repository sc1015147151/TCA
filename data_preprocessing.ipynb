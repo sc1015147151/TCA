{
 "cells": [
  {
   "cell_type": "code",
   "execution_count": 1,
   "metadata": {},
   "outputs": [],
   "source": [
    "import pandas as pd\n",
    "import  tca_cx as tca\n",
    "from sklearn.model_selection import KFold\n",
    "from sklearn.model_selection import train_test_split\n",
    "import numpy as np\n",
    "from sklearn.preprocessing import *\n",
    "import numpy\n",
    "from kcca import *\n",
    "from numpy import dot, eye, ones, zeros\n",
    "import scipy.linalg\n",
    "from kernel_icd import kernel_icd\n",
    "from kernels import *\n",
    "import pandas as pd\n",
    "from plot_confusion_matrix import *\n",
    "from sklearn.cluster import KMeans as KM"
   ]
  },
  {
   "cell_type": "code",
   "execution_count": 2,
   "metadata": {},
   "outputs": [
    {
     "name": "stderr",
     "output_type": "stream",
     "text": [
      "c:\\users\\10151\\appdata\\local\\programs\\python\\python36\\lib\\site-packages\\tensorflow\\python\\framework\\dtypes.py:517: FutureWarning: Passing (type, 1) or '1type' as a synonym of type is deprecated; in a future version of numpy, it will be understood as (type, (1,)) / '(1,)type'.\n",
      "  _np_qint8 = np.dtype([(\"qint8\", np.int8, 1)])\n",
      "c:\\users\\10151\\appdata\\local\\programs\\python\\python36\\lib\\site-packages\\tensorflow\\python\\framework\\dtypes.py:518: FutureWarning: Passing (type, 1) or '1type' as a synonym of type is deprecated; in a future version of numpy, it will be understood as (type, (1,)) / '(1,)type'.\n",
      "  _np_quint8 = np.dtype([(\"quint8\", np.uint8, 1)])\n",
      "c:\\users\\10151\\appdata\\local\\programs\\python\\python36\\lib\\site-packages\\tensorflow\\python\\framework\\dtypes.py:519: FutureWarning: Passing (type, 1) or '1type' as a synonym of type is deprecated; in a future version of numpy, it will be understood as (type, (1,)) / '(1,)type'.\n",
      "  _np_qint16 = np.dtype([(\"qint16\", np.int16, 1)])\n",
      "c:\\users\\10151\\appdata\\local\\programs\\python\\python36\\lib\\site-packages\\tensorflow\\python\\framework\\dtypes.py:520: FutureWarning: Passing (type, 1) or '1type' as a synonym of type is deprecated; in a future version of numpy, it will be understood as (type, (1,)) / '(1,)type'.\n",
      "  _np_quint16 = np.dtype([(\"quint16\", np.uint16, 1)])\n",
      "c:\\users\\10151\\appdata\\local\\programs\\python\\python36\\lib\\site-packages\\tensorflow\\python\\framework\\dtypes.py:521: FutureWarning: Passing (type, 1) or '1type' as a synonym of type is deprecated; in a future version of numpy, it will be understood as (type, (1,)) / '(1,)type'.\n",
      "  _np_qint32 = np.dtype([(\"qint32\", np.int32, 1)])\n",
      "c:\\users\\10151\\appdata\\local\\programs\\python\\python36\\lib\\site-packages\\tensorflow\\python\\framework\\dtypes.py:526: FutureWarning: Passing (type, 1) or '1type' as a synonym of type is deprecated; in a future version of numpy, it will be understood as (type, (1,)) / '(1,)type'.\n",
      "  np_resource = np.dtype([(\"resource\", np.ubyte, 1)])\n"
     ]
    }
   ],
   "source": [
    "import tensorflow as tf"
   ]
  },
  {
   "cell_type": "code",
   "execution_count": 3,
   "metadata": {},
   "outputs": [
    {
     "data": {
      "text/plain": [
       "'1.7.0'"
      ]
     },
     "execution_count": 3,
     "metadata": {},
     "output_type": "execute_result"
    }
   ],
   "source": [
    "tf.__version__"
   ]
  },
  {
   "cell_type": "code",
   "execution_count": 2,
   "metadata": {},
   "outputs": [],
   "source": [
    "train17=pd.read_csv('20170529_standard.csv')\n",
    "train17_sample=train17.sample(frac=1,replace=True, random_state=3, axis=0)\n",
    "train18=pd.read_csv('20180509_standard.csv')\n",
    "train18_sample=train18.sample(frac=1,replace=True, random_state=3, axis=0)\n",
    "#train18_sample"
   ]
  },
  {
   "cell_type": "code",
   "execution_count": 3,
   "metadata": {},
   "outputs": [],
   "source": [
    "train_sample=pd.concat([train17_sample,train18_sample], axis=1,ignore_index=False)\n",
    "#train_sample"
   ]
  },
  {
   "cell_type": "code",
   "execution_count": 4,
   "metadata": {},
   "outputs": [],
   "source": [
    "#分割原域和目标域的训练数据和标签数据\n",
    "S=train17_sample.loc[:,'S1':'S4'].values\n",
    "#S.info()\n",
    "nml=Normalizer().fit(S) \n",
    "S=nml.transform(S).astype(\"float32\")\n",
    "S_Y=train17_sample.loc[:,'S_Y'].values\n",
    "T=train18_sample.loc[:,'T1':'T4'].values\n",
    "T=nml.transform(T).astype(\"float32\")\n",
    "T_Y=train18_sample.loc[:,'T_Y'].values"
   ]
  },
  {
   "cell_type": "code",
   "execution_count": 5,
   "metadata": {},
   "outputs": [
    {
     "name": "stderr",
     "output_type": "stream",
     "text": [
      "c:\\users\\shenchao\\appdata\\local\\programs\\python\\python36\\lib\\site-packages\\sklearn\\utils\\validation.py:433: ComplexWarning: Casting complex values to real discards the imaginary part\n",
      "  array = np.array(array, dtype=dtype, order=order, copy=copy)\n"
     ]
    }
   ],
   "source": [
    "kernel =GaussianKernel()\n",
    "cca = KCCA(kernel, kernel,\n",
    "                regularization=1e-5,\n",
    "                decomp='full',\n",
    "                method='kettering_method',\n",
    "                scaler1=None,\n",
    "                scaler2=None).fit(S,T)     \n",
    "X1, X2 = cca.transform(S, T)\n",
    "dX=X1-X2 #kcca 的MAD变量\n",
    "km=KM(n_clusters=2)#无监督二分类 得出0或1是否改变\n",
    "pre=km.fit_predict(X=dX)\n",
    "pre=pd.DataFrame({\"changed\":pre})"
   ]
  },
  {
   "cell_type": "code",
   "execution_count": 6,
   "metadata": {},
   "outputs": [],
   "source": [
    "train_sample=train_sample.reset_index().drop(['index'],axis=1)#删除索引\n",
    "tag_train_sample=pd.concat([train_sample,pre], axis=1,ignore_index=True)\n",
    "tag0_train_sample=tag_train_sample[tag_train_sample[10] == 0]\n",
    "tag1_train_sample=tag_train_sample[tag_train_sample[10] == 1]\n",
    "tag_train_sample=tag0_train_sample"
   ]
  },
  {
   "cell_type": "code",
   "execution_count": 7,
   "metadata": {},
   "outputs": [],
   "source": [
    "Xs = tag_train_sample.iloc[:,:4]\n",
    "Xs = Xs.values\n",
    "Ys = tag_train_sample.iloc[:,4:5]\n",
    "Ys = Ys.values\n",
    "Xt = tag_train_sample.iloc[:,5:9]\n",
    "Xt = Xt.values\n",
    "Yt = tag_train_sample.iloc[:,9:10]\n",
    "Yt = Yt.values\n",
    "X = np.hstack((Xs,Xt))\n",
    "Y = np.hstack((Ys,Yt))\n",
    "x_train_st, x_test_st, y_train_st, y_test_st = train_test_split(\n",
    "    X,\n",
    "    Y,\n",
    "    test_size=0.5, \n",
    "    random_state=9)\n",
    "x_train_s=x_train_st[:,0:4]\n",
    "y_train_s=y_train_st[:,0]\n",
    "x_train_t=x_train_st[:,4:8]\n",
    "y_train_t=y_train_st[:,1]\n",
    "x_test_t=x_test_st[:,4:8]\n",
    "y_test_t=y_test_st[:,1]"
   ]
  },
  {
   "cell_type": "code",
   "execution_count": 8,
   "metadata": {},
   "outputs": [
    {
     "name": "stdout",
     "output_type": "stream",
     "text": [
      "SVM 0.692200557103064 0.568478226137066\n"
     ]
    },
    {
     "name": "stderr",
     "output_type": "stream",
     "text": [
      "c:\\users\\shenchao\\appdata\\local\\programs\\python\\python36\\lib\\site-packages\\sklearn\\utils\\validation.py:578: DataConversionWarning: A column-vector y was passed when a 1d array was expected. Please change the shape of y to (n_samples, ), for example using ravel().\n",
      "  y = column_or_1d(y, warn=True)\n"
     ]
    }
   ],
   "source": [
    "my_tca = tca.TCA(dim=6)\n",
    "predict,acc_tar_o,y_tar_o_pre,kappa_tar = my_tca.classify_svm(Xs,Ys,Xt,Yt)\n",
    "print('SVM',acc_tar_o,kappa_tar)\n",
    "#plot_confusion_matrix(y_train_t, predict,(\"0\",'1','2',\"3\",'4','5'))\n",
    "#plot_confusion_matrix(y_train_t, predict,(\"0\",'1','2',\"3\",'4','5','6'))"
   ]
  },
  {
   "cell_type": "code",
   "execution_count": 9,
   "metadata": {},
   "outputs": [],
   "source": [
    "#plot_confusion_matrix(y_train_t, predict,(\"0\",'1','2',\"3\",'4'))"
   ]
  },
  {
   "cell_type": "code",
   "execution_count": 11,
   "metadata": {},
   "outputs": [
    {
     "name": "stderr",
     "output_type": "stream",
     "text": [
      "c:\\users\\shenchao\\appdata\\local\\programs\\python\\python36\\lib\\site-packages\\numpy\\core\\numeric.py:492: ComplexWarning: Casting complex values to real discards the imaginary part\n",
      "  return array(a, dtype, copy=False, order=order)\n",
      "c:\\users\\shenchao\\appdata\\local\\programs\\python\\python36\\lib\\site-packages\\sklearn\\utils\\validation.py:578: DataConversionWarning: A column-vector y was passed when a 1d array was expected. Please change the shape of y to (n_samples, ), for example using ravel().\n",
      "  y = column_or_1d(y, warn=True)\n",
      "c:\\users\\shenchao\\appdata\\local\\programs\\python\\python36\\lib\\site-packages\\sklearn\\utils\\validation.py:433: ComplexWarning: Casting complex values to real discards the imaginary part\n",
      "  array = np.array(array, dtype=dtype, order=order, copy=copy)\n"
     ]
    },
    {
     "name": "stdout",
     "output_type": "stream",
     "text": [
      "SVM 0.24651810584958217 0.09628644730956903\n"
     ]
    }
   ],
   "source": [
    "x_src_tca, x_tar_tca, x_tar_o_tca = my_tca.fit_transform(Xs, Xt,Xt) \n",
    "predict,acc_tar_o,y_tar_o_pre,kappa_tar = my_tca.classify_svm(x_src_tca, Ys, x_tar_o_tca, Yt)\n",
    "print('SVM',acc_tar_o,kappa_tar)\n",
    "#plot_confusion_matrix(Yt, predict,(\"0\",'1','2',\"3\",'4','5','6'))"
   ]
  },
  {
   "cell_type": "markdown",
   "metadata": {},
   "source": [
    " 👆👆👆👆👆👆👆"
   ]
  }
 ],
 "metadata": {
  "kernelspec": {
   "display_name": "Python 3",
   "language": "python",
   "name": "python3"
  },
  "language_info": {
   "codemirror_mode": {
    "name": "ipython",
    "version": 3
   },
   "file_extension": ".py",
   "mimetype": "text/x-python",
   "name": "python",
   "nbconvert_exporter": "python",
   "pygments_lexer": "ipython3",
   "version": "3.6.6"
  }
 },
 "nbformat": 4,
 "nbformat_minor": 2
}
