{
 "cells": [
  {
   "cell_type": "code",
   "execution_count": 1,
   "metadata": {
    "scrolled": false
   },
   "outputs": [
    {
     "name": "stderr",
     "output_type": "stream",
     "text": [
      "c:\\users\\sc\\appdata\\local\\programs\\python\\python36\\lib\\site-packages\\numpy\\core\\_asarray.py:85: ComplexWarning: Casting complex values to real discards the imaginary part\n",
      "  return array(a, dtype, copy=False, order=order)\n"
     ]
    }
   ],
   "source": [
    "from sklearn import tree\n",
    "from sklearn import metrics\n",
    "from sklearn.metrics import *\n",
    "import pandas as pd\n",
    "from cca import Cca as cca\n",
    "import numpy as np\n",
    "import tca \n",
    "import ascr\n",
    "from plot_confusion_matrix import *\n",
    "from sklearn.model_selection import KFold\n",
    "from sklearn.model_selection import train_test_split\n",
    "file_path1='./data/sample.csv'\n",
    "file_path2='./data/sample.csv'\n",
    "#train_sample = pd.read_csv(file_path1)\n",
    "\n",
    "train_sample=pd.read_csv(file_path1).sample(frac=0.02,replace=True, random_state=9, axis=0)\n",
    "xs=train_sample.loc[:,'S1':'S6']\n",
    "xt=train_sample.loc[:,'T1':'T6']\n",
    "x_train_st, x_test_st, y_train_st, y_test_st = train_test_split(\n",
    "    np.append(xs,xt,axis = 1) ,\n",
    "    pd.concat([train_sample[['S_Y']], train_sample[['T_Y']]], axis=1, join='inner').values,\n",
    "    test_size=0.2, \n",
    "    random_state=9)\n",
    "x_src = x_train_st[:, 0:6]\n",
    "x_tar = x_train_st[:, 6:12]\n",
    "y_src=y_train_st[:, 0:1]\n",
    "y_tar=y_train_st[:, 1:2]\n",
    "x_tar_o= x_test_st[:, 6:12]\n",
    "y_tar_o=y_test_st[:, 1:2]\n",
    "\n",
    "\n",
    "my_tca = tca.TCA(dim=6)\n",
    "x_src_tca, x_tar_tca, x_tar_o_tca = my_tca.fit_transform(x_src, x_tar,x_tar_o) "
   ]
  },
  {
   "cell_type": "code",
   "execution_count": 2,
   "metadata": {},
   "outputs": [],
   "source": [
    "x_tar_o_tca=x_tar_o_tca.real"
   ]
  },
  {
   "cell_type": "code",
   "execution_count": 3,
   "metadata": {},
   "outputs": [
    {
     "name": "stderr",
     "output_type": "stream",
     "text": [
      "c:\\users\\sc\\appdata\\local\\programs\\python\\python36\\lib\\site-packages\\sklearn\\utils\\validation.py:724: DataConversionWarning: A column-vector y was passed when a 1d array was expected. Please change the shape of y to (n_samples, ), for example using ravel().\n",
      "  y = column_or_1d(y, warn=True)\n",
      "c:\\users\\sc\\appdata\\local\\programs\\python\\python36\\lib\\site-packages\\sklearn\\neural_network\\multilayer_perceptron.py:921: DataConversionWarning: A column-vector y was passed when a 1d array was expected. Please change the shape of y to (n_samples, ), for example using ravel().\n",
      "  y = column_or_1d(y, warn=True)\n"
     ]
    },
    {
     "name": "stdout",
     "output_type": "stream",
     "text": [
      "SVM 0.521551724137931 0.13670801206838767\n",
      "决策树 0.28448275862068967 0.04237119554406199\n",
      "sgd NN 0.5086206896551724 0.0\n"
     ]
    },
    {
     "name": "stderr",
     "output_type": "stream",
     "text": [
      "c:\\users\\sc\\appdata\\local\\programs\\python\\python36\\lib\\site-packages\\sklearn\\neural_network\\multilayer_perceptron.py:921: DataConversionWarning: A column-vector y was passed when a 1d array was expected. Please change the shape of y to (n_samples, ), for example using ravel().\n",
      "  y = column_or_1d(y, warn=True)\n"
     ]
    },
    {
     "name": "stdout",
     "output_type": "stream",
     "text": [
      "adam NN 0.5086206896551724 0.0\n",
      "lbfgs NN 0.5086206896551724 0.0\n"
     ]
    },
    {
     "name": "stderr",
     "output_type": "stream",
     "text": [
      "c:\\users\\sc\\appdata\\local\\programs\\python\\python36\\lib\\site-packages\\sklearn\\neural_network\\multilayer_perceptron.py:921: DataConversionWarning: A column-vector y was passed when a 1d array was expected. Please change the shape of y to (n_samples, ), for example using ravel().\n",
      "  y = column_or_1d(y, warn=True)\n"
     ]
    }
   ],
   "source": [
    "\n",
    "y_tar_o_pre,acc_tar_o,y_tar_o_pre,kappa_tar = my_tca.classify_svm(x_src_tca, y_src, x_tar_o_tca, y_tar_o)\n",
    "\n",
    "\n",
    "print('SVM',acc_tar_o,kappa_tar)\n",
    "#\n",
    "dr = tree.DecisionTreeClassifier()\n",
    "dr = dr.fit(x_src_tca, y_src)\n",
    "print('决策树',metrics.accuracy_score(y_tar_o, dr.predict(x_tar_o_tca)),\n",
    "          metrics.cohen_kappa_score(y_tar_o,dr.predict(x_tar_o_tca)))\n",
    "#  \n",
    "from sklearn.neural_network import MLPClassifier\n",
    "for i in ('sgd','adam','lbfgs'):\n",
    "    nn = MLPClassifier(solver=i, alpha=1e-5,hidden_layer_sizes=(6, 6), random_state=0)\n",
    "    nn = nn.fit(x_src_tca, y_src)\n",
    "    print(i,'NN',metrics.accuracy_score(y_tar_o, nn.predict(x_tar_o_tca)),\n",
    "          metrics.cohen_kappa_score(y_tar_o, nn.predict(x_tar_o_tca))) "
   ]
  },
  {
   "cell_type": "code",
   "execution_count": 4,
   "metadata": {},
   "outputs": [
    {
     "data": {
      "text/plain": [
       "array([[  0,   0,   0,   0,   0,   0,  11,   0,   0],\n",
       "       [  0,   0,   0,   0,   0,   0,   3,   0,   0],\n",
       "       [  0,   0,   0,   0,   0,   0,  10,   0,   0],\n",
       "       [  0,   0,   0,   0,   0,   0,   1,   0,   0],\n",
       "       [  0,   0,   0,   0,   0,   0,  25,   0,   0],\n",
       "       [  0,   0,   0,   0,   0,   0,  31,   0,   0],\n",
       "       [  0,   0,   0,   0,   0,   0, 118,   0,   0],\n",
       "       [  0,   0,   0,   0,   0,   0,   3,   0,   0],\n",
       "       [  0,   0,   0,   0,   0,   0,  30,   0,   0]], dtype=int64)"
      ]
     },
     "execution_count": 4,
     "metadata": {},
     "output_type": "execute_result"
    }
   ],
   "source": [
    "confusion_matrix(y_tar_o, nn.predict(x_tar_o_tca))"
   ]
  },
  {
   "cell_type": "code",
   "execution_count": 5,
   "metadata": {},
   "outputs": [
    {
     "data": {
      "image/png": "[encoded data removed]",
      "text/plain": [
       "<Figure size 1200x960 with 2 Axes>"
      ]
     },
     "metadata": {
      "needs_background": "light"
     },
     "output_type": "display_data"
    }
   ],
   "source": [
    "plot_confusion_matrix(y_tar_o, nn.predict(x_tar_o_tca),('1','2','3','4','5'))"
   ]
  },
  {
   "cell_type": "code",
   "execution_count": null,
   "metadata": {},
   "outputs": [],
   "source": []
  }
 ],
 "metadata": {
  "kernelspec": {
   "display_name": "Python 3",
   "language": "python",
   "name": "python3"
  },
  "language_info": {
   "codemirror_mode": {
    "name": "ipython",
    "version": 3
   },
   "file_extension": ".py",
   "mimetype": "text/x-python",
   "name": "python",
   "nbconvert_exporter": "python",
   "pygments_lexer": "ipython3",
   "version": "3.6.7"
  }
 },
 "nbformat": 4,
 "nbformat_minor": 2
}
