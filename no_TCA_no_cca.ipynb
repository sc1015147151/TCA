{
 "cells": [
  {
   "cell_type": "code",
   "execution_count": 5,
   "metadata": {
    "scrolled": false
   },
   "outputs": [
    {
     "name": "stdout",
     "output_type": "stream",
     "text": [
      "(14459, 1)\n"
     ]
    },
    {
     "name": "stderr",
     "output_type": "stream",
     "text": [
      "c:\\users\\10151\\appdata\\local\\programs\\python\\python36\\lib\\site-packages\\sklearn\\utils\\validation.py:724: DataConversionWarning: A column-vector y was passed when a 1d array was expected. Please change the shape of y to (n_samples, ), for example using ravel().\n",
      "  y = column_or_1d(y, warn=True)\n"
     ]
    },
    {
     "ename": "ValueError",
     "evalue": "too many values to unpack (expected 3)",
     "output_type": "error",
     "traceback": [
      "\u001b[1;31m---------------------------------------------------------------------------\u001b[0m",
      "\u001b[1;31mValueError\u001b[0m                                Traceback (most recent call last)",
      "\u001b[1;32m<ipython-input-5-7b02bd272fc2>\u001b[0m in \u001b[0;36m<module>\u001b[1;34m\u001b[0m\n\u001b[0;32m     32\u001b[0m \u001b[0mmy_tca\u001b[0m \u001b[1;33m=\u001b[0m \u001b[0mtca\u001b[0m\u001b[1;33m.\u001b[0m\u001b[0mTCA\u001b[0m\u001b[1;33m(\u001b[0m\u001b[0mdim\u001b[0m\u001b[1;33m=\u001b[0m\u001b[1;36m6\u001b[0m\u001b[1;33m)\u001b[0m\u001b[1;33m\u001b[0m\u001b[0m\n\u001b[0;32m     33\u001b[0m \u001b[1;31m#     V,x_src_tca, x_tar_tca, x_tar_o_tca = my_tca.fit_transform(x_src, x_tar,x_tar_o)\u001b[0m\u001b[1;33m\u001b[0m\u001b[1;33m\u001b[0m\u001b[0m\n\u001b[1;32m---> 34\u001b[1;33m \u001b[0macc_tar_o\u001b[0m\u001b[1;33m,\u001b[0m\u001b[0my_tar_o_pre\u001b[0m\u001b[1;33m,\u001b[0m\u001b[0mkappa_tar\u001b[0m \u001b[1;33m=\u001b[0m \u001b[0mmy_tca\u001b[0m\u001b[1;33m.\u001b[0m\u001b[0mclassify_svm\u001b[0m\u001b[1;33m(\u001b[0m\u001b[0mx_src\u001b[0m\u001b[1;33m,\u001b[0m \u001b[0my_src\u001b[0m\u001b[1;33m,\u001b[0m \u001b[0mx_tar_o\u001b[0m\u001b[1;33m,\u001b[0m \u001b[0my_test_st\u001b[0m\u001b[1;33m[\u001b[0m\u001b[1;33m:\u001b[0m\u001b[1;33m,\u001b[0m \u001b[1;36m1\u001b[0m\u001b[1;33m:\u001b[0m\u001b[1;36m2\u001b[0m\u001b[1;33m]\u001b[0m\u001b[1;33m)\u001b[0m\u001b[1;33m\u001b[0m\u001b[0m\n\u001b[0m\u001b[0;32m     35\u001b[0m \u001b[0mprint\u001b[0m\u001b[1;33m(\u001b[0m\u001b[1;34m'SVM without TCA'\u001b[0m\u001b[1;33m,\u001b[0m\u001b[0macc_tar_o\u001b[0m\u001b[1;33m,\u001b[0m\u001b[0mkappa_tar\u001b[0m\u001b[1;33m)\u001b[0m\u001b[1;33m\u001b[0m\u001b[0m\n\u001b[0;32m     36\u001b[0m \u001b[0msvm\u001b[0m\u001b[1;33m=\u001b[0m\u001b[0mmy_tca\u001b[0m\u001b[1;33m.\u001b[0m\u001b[0mclassify_svm\u001b[0m\u001b[1;33m\u001b[0m\u001b[0m\n",
      "\u001b[1;31mValueError\u001b[0m: too many values to unpack (expected 3)"
     ]
    }
   ],
   "source": [
    "import pandas as pd\n",
    "import numpy as np\n",
    "from sklearn import svm\n",
    "from sklearn import metrics\n",
    "from scipy import sparse\n",
    "from plot_confusion_matrix import *\n",
    "import math\n",
    "import tca\n",
    "from sklearn import tree\n",
    "import ascr\n",
    "file_path1='./data/sample.csv'\n",
    "from sklearn.model_selection import KFold\n",
    "from sklearn.model_selection import train_test_split\n",
    "train_sample=pd.read_csv(file_path1)#.sample(frac=0.99,replace=True, random_state=6, axis=0)\n",
    "x_train_st, x_test_st, y_train_st, y_test_st = train_test_split(\n",
    "    train_sample.loc[:,'S1':'S6'].join(train_sample.loc[:,'T1':'T6']) ,\n",
    "    train_sample[['S_Y']].join(train_sample[['T_Y']]),\n",
    "    test_size=0.25, \n",
    "    random_state=12)\n",
    "x_test_st=x_test_st.values\n",
    "y_test_st=y_test_st.values\n",
    "y_train_st=y_train_st.values\n",
    "x_train_st=x_train_st.values    \n",
    "x_src = x_train_st[:, 0:6]\n",
    "x_tar = x_train_st[:, 6:12]\n",
    "y_src=y_train_st[:, 0:1]\n",
    "y_tar=y_train_st[:, 1:2]\n",
    "x_tar_o= x_test_st[:, 6:12]\n",
    "y_tar_o=y_test_st[:, 1:2]\n",
    "\n",
    "print(y_tar_o.shape)\n",
    "my_tca = tca.TCA(dim=6)\n",
    "#     V,x_src_tca, x_tar_tca, x_tar_o_tca = my_tca.fit_transform(x_src, x_tar,x_tar_o) \n",
    "acc_tar_o,y_tar_o_pre,kappa_tar = my_tca.classify_svm(x_src, y_src, x_tar_o, y_test_st[:, 1:2])\n",
    "print('SVM without TCA',acc_tar_o,kappa_tar)\n",
    "svm=my_tca.classify_svm\n",
    "    #train_sample_for_learning\n",
    "dr = tree.DecisionTreeClassifier()\n",
    "dr = dr.fit(x_src, y_src)\n",
    "print('决策树without TCA',metrics.accuracy_score(y_tar_o, dr.predict(x_tar_o)),metrics.cohen_kappa_score(y_tar_o,dr.predict(x_tar_o)))\n",
    "from sklearn.neural_network import MLPClassifier\n",
    "for i in ('sgd','adam','lbfgs'):\n",
    "    nn = MLPClassifier(solver=i, alpha=1e-5,hidden_layer_sizes=(6, 6), random_state=1)\n",
    "    nn = nn.fit(x_src, y_src)\n",
    "    print(i,'NN without TCA',metrics.accuracy_score(y_tar_o, nn.predict(x_tar_o)),metrics.cohen_kappa_score(y_tar_o, nn.predict(x_tar_o))) \n"
   ]
  },
  {
   "cell_type": "code",
   "execution_count": null,
   "metadata": {},
   "outputs": [],
   "source": [
    "from sklearn.metrics import *\n",
    "confusion_matrix(y_tar_o, nn.predict(x_tar_o))"
   ]
  },
  {
   "cell_type": "code",
   "execution_count": null,
   "metadata": {},
   "outputs": [],
   "source": [
    "plot_confusion_matrix(y_tar_o, nn.predict(x_tar_o),('1','2','3','4','5'))"
   ]
  },
  {
   "cell_type": "code",
   "execution_count": null,
   "metadata": {},
   "outputs": [],
   "source": []
  }
 ],
 "metadata": {
  "kernelspec": {
   "display_name": "Python 3",
   "language": "python",
   "name": "python3"
  },
  "language_info": {
   "codemirror_mode": {
    "name": "ipython",
    "version": 3
   },
   "file_extension": ".py",
   "mimetype": "text/x-python",
   "name": "python",
   "nbconvert_exporter": "python",
   "pygments_lexer": "ipython3",
   "version": "3.6.6"
  }
 },
 "nbformat": 4,
 "nbformat_minor": 2
}
